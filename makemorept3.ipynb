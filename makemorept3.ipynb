{
 "cells": [
  {
   "cell_type": "code",
   "execution_count": 1,
   "metadata": {},
   "outputs": [],
   "source": [
    "import torch\n",
    "import torch.nn.functional as F\n",
    "import matplotlib.pyplot as plt\n",
    "%matplotlib inline"
   ]
  },
  {
   "cell_type": "code",
   "execution_count": 2,
   "metadata": {},
   "outputs": [
    {
     "data": {
      "text/plain": [
       "device(type='cuda')"
      ]
     },
     "execution_count": 2,
     "metadata": {},
     "output_type": "execute_result"
    }
   ],
   "source": [
    "torch.device('cuda')"
   ]
  },
  {
   "cell_type": "code",
   "execution_count": 3,
   "metadata": {},
   "outputs": [
    {
     "data": {
      "text/plain": [
       "['emma', 'olivia', 'ava', 'isabella', 'sophia', 'charlotte', 'mia', 'amelia']"
      ]
     },
     "execution_count": 3,
     "metadata": {},
     "output_type": "execute_result"
    }
   ],
   "source": [
    "words = open('names.txt', 'r').read().splitlines()\n",
    "words[:8]"
   ]
  },
  {
   "cell_type": "code",
   "execution_count": 4,
   "metadata": {},
   "outputs": [
    {
     "data": {
      "text/plain": [
       "32033"
      ]
     },
     "execution_count": 4,
     "metadata": {},
     "output_type": "execute_result"
    }
   ],
   "source": [
    "len(words)"
   ]
  },
  {
   "cell_type": "code",
   "execution_count": 5,
   "metadata": {},
   "outputs": [
    {
     "name": "stdout",
     "output_type": "stream",
     "text": [
      "{1: 'a', 2: 'b', 3: 'c', 4: 'd', 5: 'e', 6: 'f', 7: 'g', 8: 'h', 9: 'i', 10: 'j', 11: 'k', 12: 'l', 13: 'm', 14: 'n', 15: 'o', 16: 'p', 17: 'q', 18: 'r', 19: 's', 20: 't', 21: 'u', 22: 'v', 23: 'w', 24: 'x', 25: 'y', 26: 'z', 0: '.'}\n",
      "27\n"
     ]
    }
   ],
   "source": [
    "chars = sorted(list(set(''.join(words))))\n",
    "stoi = {s:i+1 for i, s in enumerate(chars)}\n",
    "stoi['.'] = 0\n",
    "itos = {i:s for s, i in stoi.items()}\n",
    "vocab_size = len(itos)\n",
    "print(itos)\n",
    "print(vocab_size)"
   ]
  },
  {
   "cell_type": "code",
   "execution_count": 6,
   "metadata": {},
   "outputs": [],
   "source": [
    "block_size = 3\n",
    "\n",
    "def build_dataset(words):\n",
    "    X, Y = [], []\n",
    "    for w in words:\n",
    "        # print(w)\n",
    "        context = [0] * block_size\n",
    "\n",
    "        for c in w + '.':\n",
    "            ix = stoi[c]\n",
    "            X.append(context)\n",
    "            Y.append(ix)\n",
    "\n",
    "            # print(''.join(itos[i] for i in context), '---->', itos[ix])\n",
    "            context = context[1:] + [ix]\n",
    "\n",
    "    X = torch.tensor(X)\n",
    "    Y = torch.tensor(Y)\n",
    "    return X, Y\n",
    "\n",
    "import random\n",
    "random.seed(42)\n",
    "random.shuffle(words)\n",
    "n1 = int(0.8 * len(words))\n",
    "n2 = int(0.9 * len(words))\n",
    "\n",
    "X, Y = build_dataset(words)\n",
    "\n",
    "Xtr, Ytr = build_dataset(words[:n1])\n",
    "Xdev, Ydev = build_dataset(words[n1:n2])\n",
    "Xte, Yte = build_dataset(words[n2:])"
   ]
  },
  {
   "cell_type": "code",
   "execution_count": 7,
   "metadata": {},
   "outputs": [
    {
     "name": "stdout",
     "output_type": "stream",
     "text": [
      "12297\n"
     ]
    }
   ],
   "source": [
    "n_embd = 10\n",
    "n_hidden = 200\n",
    "\n",
    "g = torch.Generator().manual_seed(2147483647)\n",
    "C = torch.randn((vocab_size, n_embd), generator=g)\n",
    "W1 = torch.randn((n_embd * block_size, n_hidden), generator=g) * (5 / 3) / ((n_embd * block_size) ** 0.5)\n",
    "W2 = torch.randn((n_hidden, vocab_size), generator=g) * 0.01\n",
    "b2 = torch.randn(vocab_size, generator=g) * 0\n",
    "\n",
    "bngain = torch.ones((1, n_hidden))\n",
    "bnbias = torch.zeros((1, n_hidden))\n",
    "bnmean_running = torch.zeros((1, n_hidden))\n",
    "bnstd_running = torch.zeros((1, n_hidden))\n",
    "\n",
    "parameters = [C, W1, W2, b2, bngain, bnbias]\n",
    "\n",
    "print(sum(p.nelement() for p in parameters))\n",
    "for p in parameters: p.requires_grad = True"
   ]
  },
  {
   "cell_type": "code",
   "execution_count": 8,
   "metadata": {},
   "outputs": [],
   "source": [
    "# hpreact.std(0, keepdim=True)"
   ]
  },
  {
   "cell_type": "code",
   "execution_count": 9,
   "metadata": {},
   "outputs": [
    {
     "name": "stdout",
     "output_type": "stream",
     "text": [
      "      0/ 200000: 3.3152\n",
      "  10000/ 200000: 2.3465\n",
      "  20000/ 200000: 2.5828\n",
      "  30000/ 200000: 2.3871\n",
      "  40000/ 200000: 1.9829\n",
      "  50000/ 200000: 2.2151\n",
      "  60000/ 200000: 1.7259\n",
      "  70000/ 200000: 1.9420\n",
      "  80000/ 200000: 2.1740\n",
      "  90000/ 200000: 2.2269\n",
      " 100000/ 200000: 2.0901\n",
      " 110000/ 200000: 2.1993\n",
      " 120000/ 200000: 2.1242\n",
      " 130000/ 200000: 2.4608\n",
      " 140000/ 200000: 2.1305\n",
      " 150000/ 200000: 2.0014\n",
      " 160000/ 200000: 2.1049\n",
      " 170000/ 200000: 2.3877\n",
      " 180000/ 200000: 2.3555\n",
      " 190000/ 200000: 2.3739\n"
     ]
    }
   ],
   "source": [
    "max_steps = 200000\n",
    "batch_size = 32\n",
    "lossi = []\n",
    "\n",
    "for i in range(max_steps):\n",
    "    # minibatch \n",
    "    ix = torch.randint(0, Xtr.shape[0], (batch_size,))\n",
    "    Xb, Yb = Xtr[ix], Ytr[ix]\n",
    "\n",
    "    emb = C[Xb]\n",
    "    embcat = emb.view(emb.shape[0], -1)\n",
    "    hpreact = embcat @ W1\n",
    "    bnmeani = hpreact.mean(0, keepdim=True)\n",
    "    bnstdi = hpreact.std(0, keepdim=True)\n",
    "    hpreact = bngain * (hpreact - bnmeani) / bnstdi + bnbias\n",
    "\n",
    "    with torch.no_grad():\n",
    "        bnmean_running = 0.999 * bnmean_running + 0.001 * bnmeani\n",
    "        bnstd_running = 0.999 * bnstd_running + 0.001 * bnstdi\n",
    "\n",
    "\n",
    "    h = torch.tanh(hpreact)\n",
    "    logits = h @ W2 + b2\n",
    "    loss = F.cross_entropy(logits, Yb)\n",
    "\n",
    "    for p in parameters:\n",
    "        p.grad = None\n",
    "    loss.backward()\n",
    "\n",
    "    # lr = lrs[i]\n",
    "    lr = 0.1 if i <= 100000 else 0.01\n",
    "    # lr = 0.01\n",
    "    for p in parameters:\n",
    "        p.data += -lr * p.grad\n",
    "    \n",
    "    if i % 10000 == 0:\n",
    "        print(f'{i:7d}/{max_steps:7d}: {loss.item():.4f}')\n",
    "    lossi.append(loss.log10().item())\n"
   ]
  },
  {
   "cell_type": "code",
   "execution_count": 10,
   "metadata": {},
   "outputs": [
    {
     "data": {
      "text/plain": [
       "torch.Size([32, 200])"
      ]
     },
     "execution_count": 10,
     "metadata": {},
     "output_type": "execute_result"
    },
    {
     "data": {
      "image/png": "[encoded data removed]",
      "text/plain": [
       "<Figure size 640x480 with 1 Axes>"
      ]
     },
     "metadata": {},
     "output_type": "display_data"
    }
   ],
   "source": [
    "plt.hist(h.view(-1).tolist(), 50)\n",
    "h.shape"
   ]
  },
  {
   "cell_type": "code",
   "execution_count": 11,
   "metadata": {},
   "outputs": [
    {
     "data": {
      "text/plain": [
       "tensor([ 0.6751,  3.8843, -1.4293,  0.0048, -1.7335,  4.5820, -1.4127, -1.7811,\n",
       "         3.9004,  3.3974, -1.7270,  0.8658,  0.7333, -2.1319, -1.5910,  3.7622,\n",
       "        -1.4295, -2.1334, -1.4642, -0.4385, -0.2333,  3.9210, -3.5359, -1.2120,\n",
       "        -2.8584,  2.1780, -2.5340], grad_fn=<SelectBackward0>)"
      ]
     },
     "execution_count": 11,
     "metadata": {},
     "output_type": "execute_result"
    }
   ],
   "source": [
    "logits[0]"
   ]
  },
  {
   "cell_type": "code",
   "execution_count": 12,
   "metadata": {},
   "outputs": [
    {
     "data": {
      "text/plain": [
       "[<matplotlib.lines.Line2D at 0x7fd21fd97b50>]"
      ]
     },
     "execution_count": 12,
     "metadata": {},
     "output_type": "execute_result"
    },
    {
     "data": {
      "image/png": "[encoded data removed]",
      "text/plain": [
       "<Figure size 640x480 with 1 Axes>"
      ]
     },
     "metadata": {},
     "output_type": "display_data"
    }
   ],
   "source": [
    "plt.plot(lossi)"
   ]
  },
  {
   "cell_type": "code",
   "execution_count": 13,
   "metadata": {},
   "outputs": [
    {
     "data": {
      "text/plain": [
       "tensor(3.2958)"
      ]
     },
     "execution_count": 13,
     "metadata": {},
     "output_type": "execute_result"
    }
   ],
   "source": [
    "-torch.tensor(1/27.0).log()"
   ]
  },
  {
   "cell_type": "code",
   "execution_count": 14,
   "metadata": {},
   "outputs": [],
   "source": [
    "with torch.no_grad():\n",
    "    emb = C[Xtr]\n",
    "    embcat = emb.view(emb.shape[0], -1)\n",
    "    hpreact = embcat @ W1\n",
    "\n",
    "    bnmean = hpreact.mean(0, keepdim=True)\n",
    "    bnstd = hpreact.std(0, keepdim=True)"
   ]
  },
  {
   "cell_type": "code",
   "execution_count": 17,
   "metadata": {},
   "outputs": [
    {
     "name": "stdout",
     "output_type": "stream",
     "text": [
      "train 2.0655972957611084\n",
      "val 2.1058859825134277\n"
     ]
    }
   ],
   "source": [
    "@torch.no_grad()\n",
    "def split_loss(split):\n",
    "    x, y = {\n",
    "        'train': (Xtr, Ytr),\n",
    "        'val': (Xdev, Ydev),\n",
    "        'test': (Xte, Yte)\n",
    "    }[split]\n",
    "    emb = C[x]\n",
    "    embcat = emb.view(emb.shape[0], -1)\n",
    "    hpreact = embcat @ W1\n",
    "    # hpreact = \n",
    "    hpreact = bngain * (hpreact - bnmean_running) / bnstd_running + bnbias\n",
    "    h = torch.tanh(hpreact)\n",
    "    logits = h @ W2 + b2\n",
    "    loss = F.cross_entropy(logits, y)\n",
    "    print(split, loss.item())\n",
    "\n",
    "split_loss('train')\n",
    "split_loss('val')"
   ]
  },
  {
   "cell_type": "code",
   "execution_count": 16,
   "metadata": {},
   "outputs": [
    {
     "name": "stdout",
     "output_type": "stream",
     "text": [
      "tensor([[1.1329e-04, 8.7515e-03, 6.0116e-02, 2.1528e-02, 7.5945e-02, 2.8771e-03,\n",
      "         5.0209e-02, 1.1280e-02, 1.0036e-02, 6.0345e-04, 4.5063e-02, 1.5219e-01,\n",
      "         5.3868e-02, 1.5096e-02, 1.5363e-02, 4.8378e-04, 8.9955e-02, 1.1655e-01,\n",
      "         2.5887e-02, 4.1451e-02, 8.9456e-02, 2.0677e-04, 5.8441e-02, 6.8706e-03,\n",
      "         7.0368e-03, 1.8477e-03, 3.8776e-02]], grad_fn=<SoftmaxBackward0>) 22\n",
      "22 0.058441322296857834\n",
      "1.0000000623622327\n",
      "tensor([[1.0755e-04, 2.2006e-01, 8.0474e-04, 2.7506e-04, 1.1953e-04, 1.0159e-01,\n",
      "         7.6567e-03, 1.0188e-04, 1.1419e-02, 3.0556e-01, 5.2863e-04, 4.4775e-04,\n",
      "         1.1275e-02, 1.8294e-04, 5.1388e-04, 3.9724e-02, 4.9995e-04, 5.8267e-04,\n",
      "         2.4403e-01, 3.1975e-04, 2.7996e-03, 2.3867e-03, 1.1977e-02, 5.3113e-04,\n",
      "         5.5778e-05, 3.0996e-02, 5.4534e-03]], grad_fn=<SoftmaxBackward0>) 1\n",
      "1 0.22006160020828247\n",
      "1.0000000125037332\n",
      "tensor([[1.9738e-04, 3.1056e-03, 2.3479e-02, 1.3175e-02, 2.2048e-01, 2.2899e-03,\n",
      "         2.2490e-02, 1.2640e-02, 8.9735e-03, 4.0281e-03, 9.4741e-03, 7.6384e-02,\n",
      "         8.0389e-02, 4.9065e-02, 8.2268e-02, 1.4326e-03, 8.5107e-03, 2.0433e-03,\n",
      "         1.8194e-01, 3.5369e-02, 7.1055e-03, 5.5349e-03, 9.7888e-02, 1.8053e-02,\n",
      "         1.7230e-03, 1.7397e-02, 1.4565e-02]], grad_fn=<SoftmaxBackward0>) 12\n",
      "12 0.08038947731256485\n",
      "0.999999985069735\n",
      "tensor([[8.2475e-03, 3.0874e-02, 1.0986e-02, 2.9980e-04, 2.3515e-02, 4.3101e-01,\n",
      "         2.0407e-03, 3.3289e-03, 5.3292e-04, 1.6217e-01, 1.6362e-03, 1.7685e-02,\n",
      "         1.0314e-01, 1.2111e-02, 2.6738e-02, 1.0153e-02, 1.5230e-03, 2.2891e-03,\n",
      "         1.6607e-02, 1.5492e-02, 2.9784e-03, 1.7914e-03, 4.9820e-02, 5.7310e-04,\n",
      "         8.7803e-05, 6.4066e-02, 3.0351e-04]], grad_fn=<SoftmaxBackward0>) 12\n",
      "12 0.10314112156629562\n",
      "0.9999999062929419\n",
      "tensor([[0.0492, 0.1817, 0.0382, 0.0088, 0.0660, 0.0719, 0.0018, 0.0115, 0.0143,\n",
      "         0.0678, 0.0047, 0.0007, 0.0057, 0.0022, 0.1979, 0.0150, 0.0038, 0.0023,\n",
      "         0.0024, 0.0311, 0.0011, 0.0178, 0.0032, 0.0012, 0.0013, 0.1966, 0.0018]],\n",
      "       grad_fn=<SoftmaxBackward0>) 5\n",
      "5 0.07189211994409561\n",
      "0.99999988154741\n",
      "tensor([[0.0175, 0.0320, 0.0040, 0.0012, 0.0029, 0.0272, 0.0298, 0.1599, 0.0191,\n",
      "         0.0190, 0.0209, 0.0238, 0.0042, 0.0740, 0.1245, 0.0027, 0.0019, 0.0081,\n",
      "         0.0013, 0.1691, 0.0116, 0.0162, 0.0208, 0.0305, 0.1232, 0.0452, 0.0094]],\n",
      "       grad_fn=<SoftmaxBackward0>) 13\n",
      "13 0.07404258847236633\n",
      "0.9999999473802745\n",
      "tensor([[0.1362, 0.1240, 0.0572, 0.0036, 0.0391, 0.0332, 0.0079, 0.1077, 0.0215,\n",
      "         0.0187, 0.0143, 0.0040, 0.0199, 0.0549, 0.0606, 0.0120, 0.0199, 0.0005,\n",
      "         0.0251, 0.1607, 0.0030, 0.0104, 0.0112, 0.0009, 0.0039, 0.0174, 0.0323]],\n",
      "       grad_fn=<SoftmaxBackward0>) 26\n",
      "26 0.032270465046167374\n",
      "1.0000000536092557\n",
      "tensor([[1.3758e-01, 4.1191e-01, 1.8116e-03, 4.2855e-03, 1.9843e-02, 9.6013e-02,\n",
      "         2.4684e-04, 7.8599e-03, 5.3564e-03, 4.7135e-02, 6.6675e-03, 1.0237e-02,\n",
      "         7.8109e-02, 9.5903e-04, 5.5047e-03, 3.0630e-02, 4.5303e-04, 5.4789e-05,\n",
      "         3.6531e-02, 7.4184e-02, 9.7716e-03, 1.3407e-03, 7.5892e-05, 4.8528e-04,\n",
      "         4.3224e-04, 7.7272e-03, 4.8001e-03]], grad_fn=<SoftmaxBackward0>) 1\n",
      "1 0.411909818649292\n",
      "0.9999999678402673\n",
      "tensor([[0.0004, 0.0081, 0.0073, 0.0015, 0.3025, 0.0330, 0.0021, 0.0012, 0.0221,\n",
      "         0.0202, 0.0361, 0.0044, 0.0062, 0.0166, 0.2184, 0.0004, 0.0020, 0.0098,\n",
      "         0.0546, 0.0132, 0.0014, 0.0072, 0.0051, 0.0009, 0.0123, 0.2016, 0.0117]],\n",
      "       grad_fn=<SoftmaxBackward0>) 14\n",
      "14 0.21842440962791443\n",
      "1.0000000292784534\n",
      "tensor([[0.0007, 0.0283, 0.0073, 0.0125, 0.1163, 0.0812, 0.0031, 0.1095, 0.0080,\n",
      "         0.0512, 0.0091, 0.0174, 0.0094, 0.0056, 0.2584, 0.0064, 0.0118, 0.0145,\n",
      "         0.0016, 0.0506, 0.0467, 0.0034, 0.0314, 0.0029, 0.0038, 0.1002, 0.0089]],\n",
      "       grad_fn=<SoftmaxBackward0>) 7\n",
      "7 0.10953281074762344\n",
      "0.99999996292172\n",
      "tensor([[2.3023e-02, 4.0154e-02, 4.7250e-02, 1.5973e-03, 4.8322e-04, 1.3885e-01,\n",
      "         3.5843e-03, 2.3281e-03, 3.0705e-01, 2.2584e-02, 4.0338e-03, 3.0211e-03,\n",
      "         2.0380e-02, 1.6529e-02, 2.6726e-03, 4.7680e-03, 1.8510e-04, 4.2792e-04,\n",
      "         1.7412e-02, 8.9384e-03, 2.6187e-03, 2.4790e-01, 6.3111e-03, 1.2934e-02,\n",
      "         6.7715e-04, 6.3547e-02, 7.4315e-04]], grad_fn=<SoftmaxBackward0>) 5\n",
      "5 0.13885147869586945\n",
      "0.9999999683350325\n",
      "tensor([[1.1035e-03, 1.1999e-03, 1.4555e-03, 1.4010e-03, 5.0425e-03, 2.6240e-03,\n",
      "         1.8347e-03, 4.0324e-04, 1.5045e-03, 1.5381e-04, 2.0527e-03, 1.0074e-03,\n",
      "         8.1166e-01, 4.0897e-03, 1.0873e-01, 3.1011e-03, 3.8160e-03, 3.5641e-04,\n",
      "         3.4657e-03, 5.4352e-03, 2.7365e-02, 2.5458e-04, 5.0902e-03, 1.9029e-04,\n",
      "         1.4597e-04, 4.5173e-03, 2.0048e-03]], grad_fn=<SoftmaxBackward0>) 12\n",
      "12 0.8116577863693237\n",
      "1.0000000128493411\n",
      "tensor([[7.8838e-02, 1.7094e-02, 2.9724e-02, 9.7662e-03, 4.7089e-02, 8.3738e-03,\n",
      "         3.4063e-02, 6.1265e-03, 2.6492e-03, 1.4228e-01, 9.1484e-03, 2.0005e-02,\n",
      "         2.0176e-01, 1.3058e-01, 3.4878e-03, 4.0113e-03, 3.5617e-03, 6.4527e-04,\n",
      "         4.9117e-03, 5.5408e-02, 4.5101e-03, 6.3120e-03, 1.5050e-02, 3.3352e-03,\n",
      "         1.5764e-05, 1.6020e-01, 1.0566e-03]], grad_fn=<SoftmaxBackward0>) 12\n",
      "12 0.2017609030008316\n",
      "1.0000000254913175\n",
      "tensor([[6.1555e-01, 9.0417e-02, 4.4244e-03, 3.8707e-03, 3.4915e-02, 4.4138e-02,\n",
      "         1.6959e-03, 5.9533e-03, 3.7703e-03, 2.1538e-02, 3.7985e-03, 5.0871e-04,\n",
      "         4.1217e-03, 1.1344e-03, 1.2902e-02, 8.7591e-03, 3.2497e-03, 4.7907e-04,\n",
      "         1.3693e-03, 1.9902e-02, 3.9886e-03, 1.8060e-03, 3.0591e-04, 1.6702e-03,\n",
      "         1.9668e-04, 1.0081e-01, 8.7262e-03]], grad_fn=<SoftmaxBackward0>) 0\n",
      "0 0.6155508160591125\n",
      "1.0000001281296136\n",
      "vallemzangell\n"
     ]
    }
   ],
   "source": [
    "for _ in range(1):\n",
    "    out = []\n",
    "    context = [0] * block_size\n",
    "\n",
    "    while True:\n",
    "        emb = C[torch.tensor([context])]\n",
    "        # print(emb.view(-1, 30))\n",
    "        # print(W1.shape)\n",
    "        h = torch.tanh(emb.view(1, -1) @ W1)\n",
    "        logits = h @ W2 + b2\n",
    "        # print(logits)\n",
    "        probs = F.softmax(logits, dim=1);\n",
    "        ix = torch.multinomial(probs, num_samples=1).item()\n",
    "        print(probs, ix)\n",
    "        print(ix, probs[:, ix].item())\n",
    "        \n",
    "        prob_sum = 0\n",
    "        for j in range(27):\n",
    "            # print(j, itos[j], probs[:, j].item())\n",
    "            prob_sum += probs[:, j].item()\n",
    "        \n",
    "        print(prob_sum)\n",
    "        if ix == 0:\n",
    "            break\n",
    "\n",
    "        context = context[1:] + [ix]\n",
    "        out.append(ix)\n",
    "\n",
    "    print(''.join(itos[i] for i in out))"
   ]
  }
 ],
 "metadata": {
  "kernelspec": {
   "display_name": "Python 3",
   "language": "python",
   "name": "python3"
  },
  "language_info": {
   "codemirror_mode": {
    "name": "ipython",
    "version": 3
   },
   "file_extension": ".py",
   "mimetype": "text/x-python",
   "name": "python",
   "nbconvert_exporter": "python",
   "pygments_lexer": "ipython3",
   "version": "3.10.12"
  },
  "orig_nbformat": 4
 },
 "nbformat": 4,
 "nbformat_minor": 2
}
