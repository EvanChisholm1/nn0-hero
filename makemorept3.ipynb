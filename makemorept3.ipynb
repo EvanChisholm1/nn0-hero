{
 "cells": [
  {
   "cell_type": "code",
   "execution_count": 1,
   "metadata": {},
   "outputs": [],
   "source": [
    "import torch\n",
    "import torch.nn.functional as F\n",
    "import matplotlib.pyplot as plt\n",
    "%matplotlib inline"
   ]
  },
  {
   "cell_type": "code",
   "execution_count": 2,
   "metadata": {},
   "outputs": [
    {
     "data": {
      "text/plain": [
       "device(type='cuda')"
      ]
     },
     "execution_count": 2,
     "metadata": {},
     "output_type": "execute_result"
    }
   ],
   "source": [
    "torch.device('cuda')"
   ]
  },
  {
   "cell_type": "code",
   "execution_count": 3,
   "metadata": {},
   "outputs": [
    {
     "data": {
      "text/plain": [
       "['emma', 'olivia', 'ava', 'isabella', 'sophia', 'charlotte', 'mia', 'amelia']"
      ]
     },
     "execution_count": 3,
     "metadata": {},
     "output_type": "execute_result"
    }
   ],
   "source": [
    "words = open('names.txt', 'r').read().splitlines()\n",
    "words[:8]"
   ]
  },
  {
   "cell_type": "code",
   "execution_count": 4,
   "metadata": {},
   "outputs": [
    {
     "data": {
      "text/plain": [
       "32033"
      ]
     },
     "execution_count": 4,
     "metadata": {},
     "output_type": "execute_result"
    }
   ],
   "source": [
    "len(words)"
   ]
  },
  {
   "cell_type": "code",
   "execution_count": 5,
   "metadata": {},
   "outputs": [
    {
     "name": "stdout",
     "output_type": "stream",
     "text": [
      "{1: 'a', 2: 'b', 3: 'c', 4: 'd', 5: 'e', 6: 'f', 7: 'g', 8: 'h', 9: 'i', 10: 'j', 11: 'k', 12: 'l', 13: 'm', 14: 'n', 15: 'o', 16: 'p', 17: 'q', 18: 'r', 19: 's', 20: 't', 21: 'u', 22: 'v', 23: 'w', 24: 'x', 25: 'y', 26: 'z', 0: '.'}\n",
      "27\n"
     ]
    }
   ],
   "source": [
    "chars = sorted(list(set(''.join(words))))\n",
    "stoi = {s:i+1 for i, s in enumerate(chars)}\n",
    "stoi['.'] = 0\n",
    "itos = {i:s for s, i in stoi.items()}\n",
    "vocab_size = len(itos)\n",
    "print(itos)\n",
    "print(vocab_size)"
   ]
  },
  {
   "cell_type": "code",
   "execution_count": 6,
   "metadata": {},
   "outputs": [],
   "source": [
    "block_size = 3\n",
    "\n",
    "def build_dataset(words):\n",
    "    X, Y = [], []\n",
    "    for w in words:\n",
    "        # print(w)\n",
    "        context = [0] * block_size\n",
    "\n",
    "        for c in w + '.':\n",
    "            ix = stoi[c]\n",
    "            X.append(context)\n",
    "            Y.append(ix)\n",
    "\n",
    "            # print(''.join(itos[i] for i in context), '---->', itos[ix])\n",
    "            context = context[1:] + [ix]\n",
    "\n",
    "    X = torch.tensor(X)\n",
    "    Y = torch.tensor(Y)\n",
    "    return X, Y\n",
    "\n",
    "import random\n",
    "random.seed(42)\n",
    "random.shuffle(words)\n",
    "n1 = int(0.8 * len(words))\n",
    "n2 = int(0.9 * len(words))\n",
    "\n",
    "X, Y = build_dataset(words)\n",
    "\n",
    "Xtr, Ytr = build_dataset(words[:n1])\n",
    "Xdev, Ydev = build_dataset(words[n1:n2])\n",
    "Xte, Yte = build_dataset(words[n2:])"
   ]
  },
  {
   "cell_type": "code",
   "execution_count": 7,
   "metadata": {},
   "outputs": [
    {
     "name": "stdout",
     "output_type": "stream",
     "text": [
      "12297\n"
     ]
    }
   ],
   "source": [
    "n_embd = 10\n",
    "n_hidden = 200\n",
    "\n",
    "g = torch.Generator().manual_seed(2147483647)\n",
    "C = torch.randn((vocab_size, n_embd), generator=g)\n",
    "W1 = torch.randn((n_embd * block_size, n_hidden), generator=g) * (5 / 3) / ((n_embd * block_size) ** 0.5)\n",
    "b1 = torch.randn(n_hidden, generator=g) * 0.01\n",
    "W2 = torch.randn((n_hidden, vocab_size), generator=g) * 0.01\n",
    "b2 = torch.randn(vocab_size, generator=g) * 0\n",
    "\n",
    "bngain = torch.ones((1, n_hidden))\n",
    "bnbias = torch.zeros((1, n_hidden))\n",
    "\n",
    "parameters = [C, W1, b1, W2, b2, bngain, bnbias]\n",
    "\n",
    "print(sum(p.nelement() for p in parameters))\n",
    "for p in parameters: p.requires_grad = True"
   ]
  },
  {
   "cell_type": "code",
   "execution_count": 9,
   "metadata": {},
   "outputs": [],
   "source": [
    "# hpreact.std(0, keepdim=True)"
   ]
  },
  {
   "cell_type": "code",
   "execution_count": 10,
   "metadata": {},
   "outputs": [
    {
     "name": "stderr",
     "output_type": "stream",
     "text": [
      "/home/evan/.local/lib/python3.10/site-packages/torch/autograd/__init__.py:200: UserWarning: CUDA initialization: CUDA unknown error - this may be due to an incorrectly set up environment, e.g. changing env variable CUDA_VISIBLE_DEVICES after program start. Setting the available devices to be zero. (Triggered internally at ../c10/cuda/CUDAFunctions.cpp:109.)\n",
      "  Variable._execution_engine.run_backward(  # Calls into the C++ engine to run the backward pass\n"
     ]
    },
    {
     "name": "stdout",
     "output_type": "stream",
     "text": [
      "      0/ 200000: 3.3135\n",
      "  10000/ 200000: 2.4303\n",
      "  20000/ 200000: 2.3075\n",
      "  30000/ 200000: 2.4518\n",
      "  40000/ 200000: 2.2219\n",
      "  50000/ 200000: 2.0082\n",
      "  60000/ 200000: 2.1928\n",
      "  70000/ 200000: 2.3411\n",
      "  80000/ 200000: 2.2607\n",
      "  90000/ 200000: 1.6670\n",
      " 100000/ 200000: 2.4687\n",
      " 110000/ 200000: 1.9711\n",
      " 120000/ 200000: 2.3987\n",
      " 130000/ 200000: 1.9077\n",
      " 140000/ 200000: 2.0456\n",
      " 150000/ 200000: 2.2224\n",
      " 160000/ 200000: 1.6696\n",
      " 170000/ 200000: 1.6809\n",
      " 180000/ 200000: 1.9745\n",
      " 190000/ 200000: 1.6515\n"
     ]
    }
   ],
   "source": [
    "max_steps = 200000\n",
    "batch_size = 32\n",
    "lossi = []\n",
    "\n",
    "for i in range(max_steps):\n",
    "    # minibatch \n",
    "    ix = torch.randint(0, Xtr.shape[0], (batch_size,))\n",
    "    Xb, Yb = Xtr[ix], Ytr[ix]\n",
    "\n",
    "    emb = C[Xb]\n",
    "    embcat = emb.view(emb.shape[0], -1)\n",
    "    hpreact = embcat @ W1 + b1\n",
    "    hpreact = bngain * (hpreact - hpreact.mean(0, keepdim=True)) / hpreact.std(0, keepdim=True) + bnbias\n",
    "    h = torch.tanh(hpreact)\n",
    "    logits = h @ W2 + b2\n",
    "    loss = F.cross_entropy(logits, Yb)\n",
    "\n",
    "    for p in parameters:\n",
    "        p.grad = None\n",
    "    loss.backward()\n",
    "\n",
    "    # lr = lrs[i]\n",
    "    lr = 0.1 if i <= 100000 else 0.01\n",
    "    # lr = 0.01\n",
    "    for p in parameters:\n",
    "        p.data += -lr * p.grad\n",
    "    \n",
    "    if i % 10000 == 0:\n",
    "        print(f'{i:7d}/{max_steps:7d}: {loss.item():.4f}')\n",
    "    lossi.append(loss.log10().item())\n"
   ]
  },
  {
   "cell_type": "code",
   "execution_count": null,
   "metadata": {},
   "outputs": [
    {
     "data": {
      "text/plain": [
       "torch.Size([32, 200])"
      ]
     },
     "execution_count": 13,
     "metadata": {},
     "output_type": "execute_result"
    },
    {
     "data": {
      "image/png": "[encoded data removed]",
      "text/plain": [
       "<Figure size 640x480 with 1 Axes>"
      ]
     },
     "metadata": {},
     "output_type": "display_data"
    }
   ],
   "source": [
    "plt.hist(h.view(-1).tolist(), 50)\n",
    "h.shape"
   ]
  },
  {
   "cell_type": "code",
   "execution_count": null,
   "metadata": {},
   "outputs": [
    {
     "data": {
      "text/plain": [
       "tensor([-0.0218,  0.0798,  0.0787, -0.0195,  0.2671,  0.0886, -0.1677,  0.2509,\n",
       "        -0.0037,  0.1718,  0.1116,  0.1306, -0.1733, -0.1678,  0.0765,  0.2876,\n",
       "        -0.0743, -0.0841, -0.0622, -0.0464,  0.0668,  0.2036, -0.1610, -0.1523,\n",
       "         0.0811,  0.1516,  0.0730], grad_fn=<SelectBackward0>)"
      ]
     },
     "execution_count": 19,
     "metadata": {},
     "output_type": "execute_result"
    }
   ],
   "source": [
    "logits[0]"
   ]
  },
  {
   "cell_type": "code",
   "execution_count": 11,
   "metadata": {},
   "outputs": [
    {
     "data": {
      "text/plain": [
       "[<matplotlib.lines.Line2D at 0x7fcf1d06f6a0>]"
      ]
     },
     "execution_count": 11,
     "metadata": {},
     "output_type": "execute_result"
    },
    {
     "data": {
      "image/png": "[encoded data removed]",
      "text/plain": [
       "<Figure size 640x480 with 1 Axes>"
      ]
     },
     "metadata": {},
     "output_type": "display_data"
    }
   ],
   "source": [
    "plt.plot(lossi)"
   ]
  },
  {
   "cell_type": "code",
   "execution_count": null,
   "metadata": {},
   "outputs": [
    {
     "data": {
      "text/plain": [
       "tensor(3.2958)"
      ]
     },
     "execution_count": 10,
     "metadata": {},
     "output_type": "execute_result"
    }
   ],
   "source": [
    "-torch.tensor(1/27.0).log()"
   ]
  },
  {
   "cell_type": "code",
   "execution_count": 12,
   "metadata": {},
   "outputs": [],
   "source": [
    "with torch.no_grad():\n",
    "    emb = C[Xtr]\n",
    "    embcat = emb.view(emb.shape[0], -1)\n",
    "    hpreact = embcat @ W1 + b1\n",
    "\n",
    "    bnmean = hpreact.mean(0, keepdim=True)\n",
    "    bnstd = hpreact.std(0, keepdim=True)"
   ]
  },
  {
   "cell_type": "code",
   "execution_count": 13,
   "metadata": {},
   "outputs": [
    {
     "name": "stdout",
     "output_type": "stream",
     "text": [
      "train 2.070533275604248\n",
      "val 2.1087112426757812\n"
     ]
    }
   ],
   "source": [
    "@torch.no_grad()\n",
    "def split_loss(split):\n",
    "    x, y = {\n",
    "        'train': (Xtr, Ytr),\n",
    "        'val': (Xdev, Ydev),\n",
    "        'test': (Xte, Yte)\n",
    "    }[split]\n",
    "    emb = C[x]\n",
    "    embcat = emb.view(emb.shape[0], -1)\n",
    "    hpreact = embcat @ W1 + b1\n",
    "    # hpreact = \n",
    "    hpreact = bngain * (hpreact - bnmean) / bnstd + bnbias\n",
    "    h = torch.tanh(hpreact)\n",
    "    logits = h @ W2 + b2\n",
    "    loss = F.cross_entropy(logits, y)\n",
    "    print(split, loss.item())\n",
    "\n",
    "split_loss('train')\n",
    "split_loss('val')"
   ]
  },
  {
   "cell_type": "code",
   "execution_count": null,
   "metadata": {},
   "outputs": [
    {
     "name": "stdout",
     "output_type": "stream",
     "text": [
      "tensor([[8.7747e-04, 5.3715e-15, 7.1058e-12, 1.5009e-05, 1.8605e-15, 1.3496e-19,\n",
      "         9.2666e-20, 2.0206e-10, 9.9911e-01, 4.3523e-18, 1.2792e-12, 5.9226e-12,\n",
      "         2.4580e-10, 1.2090e-17, 3.2924e-08, 5.5559e-13, 4.9027e-19, 3.6065e-09,\n",
      "         5.2399e-08, 3.5329e-18, 1.0364e-17, 1.5405e-11, 2.0431e-10, 3.0225e-15,\n",
      "         2.4977e-10, 5.7848e-12, 1.7574e-13]], grad_fn=<SoftmaxBackward0>) 8\n",
      "8 0.9991074204444885\n",
      "0.9999999859483661\n",
      "tensor([[2.1915e-10, 1.9646e-08, 1.6557e-08, 9.8405e-01, 1.7865e-09, 2.4048e-16,\n",
      "         8.5494e-04, 1.4600e-05, 1.9680e-08, 1.9304e-12, 1.7468e-09, 3.8369e-11,\n",
      "         1.3836e-02, 1.0241e-09, 1.0428e-05, 8.5221e-06, 2.4571e-10, 1.2962e-13,\n",
      "         1.3904e-08, 2.6029e-04, 6.9515e-09, 2.6035e-07, 9.0641e-04, 5.9789e-05,\n",
      "         1.2189e-12, 1.7250e-08, 2.1438e-16]], grad_fn=<SoftmaxBackward0>) 3\n",
      "3 0.9840489625930786\n",
      "0.9999998952713914\n",
      "tensor([[1.2472e-01, 1.0738e-10, 7.5413e-06, 4.1366e-01, 1.8965e-09, 2.5293e-01,\n",
      "         7.7492e-10, 1.5757e-03, 2.1361e-03, 1.5787e-10, 6.2551e-09, 1.8895e-04,\n",
      "         5.9339e-07, 1.3484e-15, 3.3305e-14, 2.0478e-01, 5.6102e-09, 2.5271e-10,\n",
      "         3.5653e-17, 6.4584e-11, 5.0877e-11, 1.4106e-14, 4.6245e-06, 4.1605e-14,\n",
      "         4.1271e-13, 1.6659e-08, 1.6574e-06]], grad_fn=<SoftmaxBackward0>) 3\n",
      "3 0.41366034746170044\n",
      "1.0000000522809063\n",
      "tensor([[1.7203e-17, 2.4827e-11, 1.0972e-11, 2.4811e-11, 1.0186e-10, 1.6373e-11,\n",
      "         1.4085e-12, 1.3329e-12, 1.0266e-20, 2.0057e-11, 3.5031e-18, 3.2688e-07,\n",
      "         9.2918e-20, 7.9171e-14, 3.0346e-19, 1.1868e-12, 9.4035e-15, 5.5475e-11,\n",
      "         3.9517e-17, 1.1070e-16, 1.1152e-11, 3.5670e-20, 1.2626e-07, 1.7007e-10,\n",
      "         1.4243e-22, 1.0000e+00, 7.5230e-22]], grad_fn=<SoftmaxBackward0>) 25\n",
      "25 0.9999995231628418\n",
      "0.9999999767419256\n",
      "tensor([[6.5129e-05, 3.2464e-10, 1.4259e-17, 1.5522e-09, 4.7513e-12, 3.3609e-17,\n",
      "         7.1593e-06, 6.6566e-10, 8.6700e-01, 2.0271e-11, 5.5534e-22, 1.0272e-02,\n",
      "         9.6450e-12, 4.5605e-02, 7.4818e-04, 1.9828e-12, 9.5445e-16, 1.0240e-08,\n",
      "         4.1185e-12, 2.9778e-06, 7.1984e-11, 8.9328e-19, 7.0089e-02, 6.9773e-05,\n",
      "         1.4823e-04, 5.9919e-03, 9.5203e-20]], grad_fn=<SoftmaxBackward0>) 8\n",
      "8 0.867000937461853\n",
      "1.0000000556354935\n",
      "tensor([[4.8016e-12, 1.8578e-14, 1.2997e-20, 4.6227e-04, 3.3741e-12, 1.7508e-12,\n",
      "         5.8350e-12, 9.9951e-01, 7.6760e-07, 6.7744e-12, 7.2559e-12, 3.1284e-07,\n",
      "         7.3922e-08, 6.2165e-09, 1.7764e-12, 1.8540e-10, 2.6610e-07, 1.6834e-13,\n",
      "         9.1252e-11, 3.3938e-06, 3.7789e-07, 1.8847e-13, 4.8640e-07, 1.8377e-05,\n",
      "         4.1753e-09, 3.7176e-13, 1.5355e-10]], grad_fn=<SoftmaxBackward0>) 7\n",
      "7 0.9995136260986328\n",
      "0.9999999647630373\n",
      "tensor([[2.2676e-24, 5.7512e-10, 5.9043e-16, 7.7963e-15, 2.8537e-06, 1.2496e-13,\n",
      "         5.7012e-06, 3.3341e-06, 1.1553e-15, 3.0162e-14, 1.5482e-08, 1.5637e-08,\n",
      "         3.5821e-15, 3.4877e-24, 1.6681e-16, 2.0410e-16, 8.9143e-11, 8.6417e-16,\n",
      "         7.9667e-16, 2.0801e-18, 3.8770e-16, 9.9999e-01, 5.8176e-14, 9.7433e-18,\n",
      "         2.0112e-21, 8.4252e-08, 1.1225e-10]], grad_fn=<SoftmaxBackward0>) 21\n",
      "21 0.9999879598617554\n",
      "0.999999965061518\n",
      "tensor([[3.0650e-08, 3.1861e-22, 1.4932e-03, 1.1637e-19, 1.6170e-09, 1.8162e-05,\n",
      "         4.4748e-09, 1.3379e-03, 5.5113e-03, 1.5834e-05, 7.6498e-12, 7.5216e-05,\n",
      "         1.2163e-05, 1.1826e-09, 2.4774e-11, 6.0567e-09, 3.2010e-08, 2.4495e-11,\n",
      "         3.0227e-06, 1.8139e-11, 6.7614e-12, 1.7184e-12, 1.2155e-21, 1.4378e-12,\n",
      "         2.9436e-10, 9.9153e-01, 1.4516e-14]], grad_fn=<SoftmaxBackward0>) 25\n",
      "25 0.9915329813957214\n",
      "0.9999999386330883\n",
      "tensor([[8.1777e-06, 4.2130e-10, 3.6997e-21, 7.8234e-16, 6.5702e-08, 4.3956e-16,\n",
      "         1.0950e-11, 5.4294e-14, 4.8501e-06, 3.3180e-10, 1.1647e-07, 1.4066e-16,\n",
      "         1.3686e-15, 4.8991e-14, 7.7137e-14, 9.5267e-01, 9.6509e-28, 1.1439e-16,\n",
      "         4.7241e-02, 3.6522e-17, 7.5133e-12, 5.2964e-17, 1.3053e-22, 6.4559e-13,\n",
      "         9.0967e-09, 4.3092e-10, 7.9100e-05]], grad_fn=<SoftmaxBackward0>) 18\n",
      "18 0.04724131524562836\n",
      "0.9999999773661242\n",
      "tensor([[1.2011e-07, 3.6293e-05, 1.9197e-08, 2.0605e-20, 1.3639e-11, 3.2560e-14,\n",
      "         7.8395e-06, 4.8102e-19, 3.0258e-12, 5.5984e-14, 1.5837e-14, 5.3968e-09,\n",
      "         1.4575e-12, 1.8185e-16, 9.0743e-07, 6.4783e-14, 6.2030e-29, 1.7482e-10,\n",
      "         9.1549e-01, 1.9980e-14, 6.3422e-14, 2.8336e-11, 1.3456e-19, 3.6174e-17,\n",
      "         1.1554e-12, 2.1195e-13, 8.4467e-02]], grad_fn=<SoftmaxBackward0>) 18\n",
      "18 0.9154875874519348\n",
      "1.0000000265608233\n",
      "tensor([[2.3296e-12, 1.1078e-07, 1.7601e-04, 2.3048e-14, 1.1048e-16, 1.1776e-13,\n",
      "         2.3204e-14, 6.2904e-05, 4.0484e-01, 1.4190e-07, 3.3210e-13, 2.1300e-08,\n",
      "         1.0319e-21, 5.6653e-01, 1.7361e-04, 5.5634e-12, 4.8848e-23, 1.2787e-02,\n",
      "         1.4958e-02, 4.6731e-09, 3.6427e-13, 3.0284e-05, 3.3159e-11, 2.3411e-11,\n",
      "         1.6388e-14, 4.3358e-04, 6.7828e-06]], grad_fn=<SoftmaxBackward0>) 13\n",
      "13 0.5665273666381836\n",
      "1.000000047145181\n",
      "tensor([[2.2150e-13, 1.1864e-06, 4.8369e-21, 1.1286e-01, 3.8299e-10, 1.0564e-13,\n",
      "         1.3525e-27, 3.1918e-13, 8.8687e-01, 4.5522e-14, 4.7173e-18, 2.3771e-10,\n",
      "         1.7384e-13, 2.3235e-04, 7.5888e-15, 1.6136e-05, 2.5906e-15, 5.0220e-17,\n",
      "         5.7917e-22, 2.5207e-09, 1.5682e-05, 4.9929e-08, 2.6853e-10, 5.0829e-10,\n",
      "         5.7344e-06, 1.1150e-12, 1.4585e-16]], grad_fn=<SoftmaxBackward0>) 8\n",
      "8 0.8868651986122131\n",
      "1.0000000442227035\n",
      "tensor([[1.0778e-09, 1.3246e-08, 2.3575e-15, 4.9388e-01, 2.8950e-02, 6.3178e-13,\n",
      "         4.8687e-18, 7.8993e-06, 1.4392e-02, 4.2075e-05, 9.3194e-02, 1.2599e-11,\n",
      "         1.8674e-05, 7.1009e-07, 1.4268e-14, 3.4831e-01, 1.8792e-05, 7.5799e-14,\n",
      "         2.3986e-13, 3.7864e-07, 2.1155e-02, 1.6545e-09, 2.2923e-05, 2.0636e-07,\n",
      "         1.2657e-06, 1.4357e-10, 3.5819e-09]], grad_fn=<SoftmaxBackward0>) 15\n",
      "15 0.34831345081329346\n",
      "1.0000000436374148\n",
      "tensor([[1.0329e-14, 2.2393e-07, 2.1249e-03, 5.3427e-11, 4.5675e-06, 7.7544e-07,\n",
      "         3.2892e-13, 8.0231e-09, 1.3844e-17, 1.5306e-11, 2.4668e-06, 5.8068e-01,\n",
      "         1.4176e-04, 1.3704e-19, 1.1104e-10, 1.6955e-03, 8.4558e-11, 1.1914e-07,\n",
      "         1.0808e-08, 2.1571e-09, 3.3417e-01, 6.1572e-08, 9.1959e-09, 9.8309e-17,\n",
      "         4.8615e-12, 9.5031e-06, 8.1174e-02]], grad_fn=<SoftmaxBackward0>) 11\n",
      "11 0.5806754231452942\n",
      "0.999999996883516\n",
      "tensor([[9.5563e-13, 1.1989e-20, 7.4733e-06, 9.0862e-10, 4.0359e-06, 5.3783e-08,\n",
      "         1.4394e-14, 3.3296e-04, 1.1940e-06, 5.2240e-09, 1.6987e-16, 1.1310e-03,\n",
      "         2.1455e-13, 6.8995e-14, 1.3968e-06, 3.7997e-06, 4.2821e-13, 2.0943e-12,\n",
      "         1.4533e-04, 8.5473e-10, 5.3403e-12, 1.5659e-09, 2.3043e-16, 1.4291e-01,\n",
      "         5.8161e-06, 8.5545e-01, 1.5649e-13]], grad_fn=<SoftmaxBackward0>) 25\n",
      "25 0.8554548025131226\n",
      "0.9999999355568846\n",
      "tensor([[1.0694e-02, 1.6682e-16, 3.6838e-18, 8.9453e-14, 2.8528e-03, 9.7356e-15,\n",
      "         7.1202e-05, 3.2628e-16, 5.7172e-07, 5.6676e-01, 3.3188e-10, 2.1710e-24,\n",
      "         1.7882e-19, 5.1783e-04, 2.4698e-19, 1.1142e-05, 5.7254e-15, 5.9404e-16,\n",
      "         3.9836e-01, 1.5837e-15, 5.1140e-06, 2.3660e-21, 4.1261e-18, 1.8852e-10,\n",
      "         1.0443e-09, 2.0721e-02, 1.5008e-15]], grad_fn=<SoftmaxBackward0>) 9\n",
      "9 0.5667628645896912\n",
      "0.9999999404965161\n",
      "tensor([[3.3985e-15, 1.0989e-02, 2.8564e-12, 2.5925e-01, 1.9916e-07, 6.9179e-10,\n",
      "         3.9165e-13, 1.2554e-04, 5.0925e-10, 1.3986e-10, 4.2737e-08, 3.5024e-01,\n",
      "         2.3311e-09, 4.4016e-19, 2.1959e-02, 3.1822e-07, 2.0420e-15, 5.5898e-15,\n",
      "         4.9169e-14, 2.1729e-17, 9.0822e-11, 1.9461e-09, 1.0285e-15, 8.4644e-18,\n",
      "         3.5743e-01, 1.3431e-07, 9.5372e-14]], grad_fn=<SoftmaxBackward0>) 11\n",
      "11 0.3502407371997833\n",
      "0.9999999457118485\n",
      "tensor([[5.6445e-18, 1.1720e-09, 1.6307e-07, 2.9553e-22, 4.7280e-01, 1.7274e-08,\n",
      "         3.0716e-13, 1.3968e-12, 1.4165e-10, 6.1428e-14, 1.4067e-09, 5.2720e-01,\n",
      "         6.1800e-21, 4.3229e-16, 4.6375e-19, 5.4880e-06, 1.7915e-12, 9.7883e-16,\n",
      "         5.9273e-13, 2.9693e-09, 1.2522e-13, 1.7036e-18, 3.0744e-18, 4.7744e-19,\n",
      "         6.0151e-09, 1.1242e-08, 8.2660e-19]], grad_fn=<SoftmaxBackward0>) 4\n",
      "4 0.47279590368270874\n",
      "1.000000148085792\n",
      "tensor([[1.1294e-16, 5.6788e-07, 3.1585e-07, 1.1827e-21, 1.7243e-07, 1.0274e-16,\n",
      "         3.6155e-08, 3.3331e-03, 3.3458e-11, 9.9649e-01, 3.1806e-06, 1.3784e-16,\n",
      "         2.5497e-20, 1.5288e-22, 1.5172e-10, 1.7155e-04, 9.0157e-17, 1.8389e-09,\n",
      "         2.5797e-06, 2.8714e-28, 4.0851e-13, 3.6853e-08, 1.5228e-15, 5.2450e-23,\n",
      "         1.7963e-17, 5.7951e-07, 4.3587e-13]], grad_fn=<SoftmaxBackward0>) 9\n",
      "9 0.9964878559112549\n",
      "1.0000000104994198\n",
      "tensor([[4.1831e-19, 1.7936e-10, 2.5452e-21, 3.6800e-11, 1.1459e-10, 1.5922e-09,\n",
      "         2.4479e-14, 3.2334e-03, 5.5326e-14, 5.9554e-14, 2.5482e-14, 4.0349e-08,\n",
      "         2.7099e-11, 4.6830e-20, 1.1262e-06, 2.4231e-14, 3.7062e-20, 1.1321e-16,\n",
      "         2.8634e-15, 2.2655e-10, 2.3279e-17, 2.9726e-15, 5.3703e-19, 2.8941e-18,\n",
      "         9.9677e-01, 1.0619e-09, 3.0328e-15]], grad_fn=<SoftmaxBackward0>) 24\n",
      "24 0.9967654943466187\n",
      "1.0000000377583884\n",
      "tensor([[5.5751e-10, 1.1192e-06, 5.1572e-17, 3.5867e-12, 3.8259e-04, 1.0261e-06,\n",
      "         1.1836e-05, 1.4915e-18, 2.4760e-12, 6.3961e-08, 9.9941e-01, 1.3762e-13,\n",
      "         1.7233e-17, 1.3210e-19, 6.2126e-11, 9.6995e-09, 2.2573e-15, 2.2709e-15,\n",
      "         1.2299e-15, 3.7884e-10, 2.3663e-09, 8.2528e-15, 1.9367e-04, 5.4571e-11,\n",
      "         1.5008e-13, 3.6637e-12, 1.8901e-12]], grad_fn=<SoftmaxBackward0>) 10\n",
      "10 0.9994096755981445\n",
      "0.9999999942290495\n",
      "tensor([[1.8612e-11, 2.4655e-14, 2.1576e-12, 1.0646e-11, 4.9233e-12, 3.3096e-11,\n",
      "         1.5294e-16, 2.0530e-19, 3.9185e-07, 4.0778e-14, 1.8563e-11, 1.4161e-03,\n",
      "         8.4412e-13, 2.5658e-19, 1.4282e-06, 8.9536e-15, 1.1112e-22, 4.7122e-07,\n",
      "         7.1781e-10, 3.1689e-24, 2.9866e-10, 3.2618e-13, 2.7654e-18, 2.0585e-13,\n",
      "         1.2864e-20, 9.9858e-01, 1.9738e-11]], grad_fn=<SoftmaxBackward0>) 25\n",
      "25 0.9985816478729248\n",
      "1.0000000099316653\n",
      "tensor([[1.2370e-01, 7.7205e-18, 5.3574e-12, 1.4915e-06, 1.0403e-09, 4.5942e-12,\n",
      "         4.2908e-09, 3.1486e-10, 1.3083e-02, 4.8037e-03, 3.7385e-21, 5.5628e-17,\n",
      "         2.2179e-15, 1.4924e-06, 4.8943e-17, 3.8858e-11, 2.8121e-19, 8.5054e-08,\n",
      "         8.5613e-01, 2.0249e-03, 2.2669e-04, 3.7282e-20, 2.7323e-05, 7.3013e-10,\n",
      "         3.0405e-08, 5.9760e-06, 1.9825e-18]], grad_fn=<SoftmaxBackward0>) 18\n",
      "18 0.8561297059059143\n",
      "1.0000000147990742\n",
      "tensor([[3.3088e-15, 3.7684e-12, 2.6037e-22, 5.5745e-11, 2.0750e-19, 9.9798e-08,\n",
      "         3.3911e-29, 3.0678e-09, 7.8126e-02, 6.4513e-11, 6.5294e-16, 6.0644e-14,\n",
      "         4.6692e-15, 1.2053e-14, 9.2181e-01, 6.5187e-06, 1.5841e-20, 5.2920e-05,\n",
      "         1.5403e-10, 1.2994e-23, 3.5350e-13, 1.8001e-12, 2.1890e-11, 2.1589e-17,\n",
      "         1.7669e-09, 4.5467e-09, 1.0440e-09]], grad_fn=<SoftmaxBackward0>) 14\n",
      "14 0.9218140244483948\n",
      "0.9999999595969531\n",
      "tensor([[8.6233e-15, 3.3284e-08, 4.0671e-11, 6.8343e-13, 2.5097e-11, 7.2413e-06,\n",
      "         2.5786e-18, 1.9170e-02, 1.6095e-07, 1.6626e-05, 1.5559e-07, 1.2339e-10,\n",
      "         7.2861e-13, 2.0863e-07, 6.8869e-02, 9.3485e-08, 5.5528e-17, 2.7545e-10,\n",
      "         1.7614e-09, 2.0215e-07, 1.6650e-08, 9.1194e-01, 1.5654e-09, 7.3979e-12,\n",
      "         1.7287e-14, 2.7889e-07, 1.6893e-09]], grad_fn=<SoftmaxBackward0>) 21\n",
      "21 0.911936342716217\n",
      "0.9999998914864767\n",
      "tensor([[1.8701e-04, 1.6462e-09, 7.8319e-14, 2.8454e-03, 1.4573e-06, 1.0436e-14,\n",
      "         7.9721e-16, 1.3313e-06, 6.1620e-01, 8.3570e-10, 2.0310e-08, 2.4316e-18,\n",
      "         1.4179e-10, 1.9186e-10, 2.0796e-18, 2.7053e-02, 1.1482e-16, 2.8834e-14,\n",
      "         3.7218e-02, 7.5410e-09, 2.9297e-05, 1.9070e-12, 2.0676e-11, 6.8599e-10,\n",
      "         3.1588e-01, 1.1605e-17, 5.8440e-04]], grad_fn=<SoftmaxBackward0>) 8\n",
      "8 0.6162022948265076\n",
      "0.9999999304875216\n",
      "tensor([[1.0987e-17, 2.8964e-04, 1.7175e-10, 8.2123e-09, 8.8697e-01, 3.1050e-12,\n",
      "         9.7393e-11, 9.4906e-11, 1.0244e-08, 1.2515e-10, 1.0036e-01, 2.1883e-09,\n",
      "         2.7704e-05, 3.0667e-11, 2.0289e-12, 1.1898e-02, 2.5990e-06, 5.4393e-09,\n",
      "         2.2159e-12, 6.1336e-11, 3.8366e-04, 1.8142e-12, 7.4145e-05, 1.6290e-08,\n",
      "         1.4101e-09, 4.3418e-13, 1.3639e-10]], grad_fn=<SoftmaxBackward0>) 4\n",
      "4 0.8869692087173462\n",
      "0.9999999786022822\n",
      "tensor([[7.9753e-13, 1.2147e-06, 1.7573e-04, 2.9777e-16, 9.9876e-01, 5.0815e-14,\n",
      "         3.9163e-05, 4.4615e-11, 8.6911e-09, 5.7713e-12, 8.3684e-05, 1.0439e-13,\n",
      "         7.3623e-07, 4.4367e-26, 1.9056e-05, 3.0099e-06, 6.6978e-16, 3.8010e-10,\n",
      "         6.9126e-04, 7.1913e-20, 1.8267e-07, 6.8369e-12, 4.1453e-15, 3.8683e-20,\n",
      "         2.7748e-17, 4.5397e-10, 2.2838e-04]], grad_fn=<SoftmaxBackward0>) 4\n",
      "4 0.9987576007843018\n",
      "1.000000025839844\n",
      "tensor([[1.0608e-16, 9.9907e-12, 8.6640e-12, 3.8434e-25, 8.6141e-05, 2.9659e-08,\n",
      "         3.2530e-06, 2.3092e-03, 1.5292e-14, 2.2789e-06, 1.6161e-18, 6.5093e-07,\n",
      "         4.2965e-09, 6.3363e-09, 6.1413e-14, 1.6716e-09, 1.3397e-14, 3.5931e-11,\n",
      "         9.9760e-01, 1.3467e-13, 3.2117e-11, 5.5251e-11, 9.8185e-22, 1.4273e-14,\n",
      "         1.9362e-12, 9.9947e-13, 1.2976e-12]], grad_fn=<SoftmaxBackward0>) 18\n",
      "18 0.9975984692573547\n",
      "1.0000000325913943\n",
      "tensor([[3.2683e-14, 2.1683e-03, 5.7942e-09, 2.1385e-09, 3.0172e-08, 3.2603e-01,\n",
      "         2.0552e-13, 5.0447e-13, 8.1967e-04, 6.9041e-11, 1.3669e-03, 2.1126e-09,\n",
      "         1.0324e-17, 3.0239e-06, 4.9439e-06, 2.4371e-16, 2.5413e-21, 4.0253e-10,\n",
      "         1.8710e-03, 1.0237e-01, 2.0764e-07, 1.6040e-08, 5.9668e-03, 3.2728e-02,\n",
      "         1.6871e-02, 7.0932e-07, 5.0980e-01]], grad_fn=<SoftmaxBackward0>) 22\n",
      "22 0.005966826807707548\n",
      "0.999999932248372\n",
      "tensor([[5.3487e-19, 3.2418e-10, 2.8280e-11, 7.8184e-04, 4.9977e-15, 6.3323e-17,\n",
      "         9.3222e-27, 1.1324e-11, 1.6873e-03, 7.3816e-09, 3.1729e-07, 3.3653e-07,\n",
      "         4.4173e-14, 1.9231e-08, 5.9088e-05, 1.0221e-11, 3.0727e-23, 1.7603e-12,\n",
      "         3.6661e-04, 1.9001e-02, 1.5891e-10, 6.4531e-07, 8.2356e-04, 9.0708e-02,\n",
      "         1.2501e-08, 8.8657e-01, 1.1262e-06]], grad_fn=<SoftmaxBackward0>) 23\n",
      "23 0.09070820361375809\n",
      "1.0000000750314566\n",
      "tensor([[2.1096e-13, 3.0289e-06, 3.4177e-15, 9.6066e-01, 6.8422e-15, 7.0125e-16,\n",
      "         1.7151e-19, 4.6500e-07, 2.1358e-09, 1.2627e-03, 6.9192e-12, 1.2147e-17,\n",
      "         7.6294e-17, 1.6059e-09, 2.6591e-13, 2.0729e-05, 2.7644e-14, 5.4433e-16,\n",
      "         5.1453e-16, 3.8659e-11, 1.4657e-02, 3.6579e-05, 2.3355e-02, 5.8213e-09,\n",
      "         1.5979e-12, 9.8098e-09, 7.7947e-18]], grad_fn=<SoftmaxBackward0>) 3\n",
      "3 0.9606642723083496\n",
      "0.9999999662783394\n",
      "tensor([[4.3889e-21, 1.6746e-18, 8.1640e-19, 2.4336e-04, 4.0033e-17, 4.4557e-19,\n",
      "         2.6466e-29, 1.9316e-08, 9.9976e-01, 3.4835e-12, 1.6450e-18, 1.7943e-13,\n",
      "         1.5060e-15, 1.4477e-09, 2.0916e-17, 3.1966e-15, 2.6911e-18, 1.0212e-20,\n",
      "         9.7304e-20, 6.2567e-17, 1.5099e-12, 3.1959e-25, 9.5588e-08, 3.9433e-15,\n",
      "         7.8378e-14, 2.2344e-20, 2.3200e-23]], grad_fn=<SoftmaxBackward0>) 8\n",
      "8 0.9997565150260925\n",
      "0.9999999883148265\n",
      "tensor([[3.3164e-11, 2.0900e-17, 2.0082e-17, 2.7517e-11, 4.9678e-10, 1.1435e-08,\n",
      "         7.5867e-08, 3.2006e-18, 2.1864e-08, 8.7158e-12, 1.5145e-15, 1.7441e-11,\n",
      "         1.3076e-15, 1.2739e-08, 2.3845e-20, 3.8920e-18, 1.7364e-08, 1.8583e-20,\n",
      "         1.6868e-20, 5.8732e-08, 7.6546e-08, 5.3916e-18, 9.6510e-01, 1.7187e-06,\n",
      "         2.3940e-14, 3.4895e-02, 1.2178e-26]], grad_fn=<SoftmaxBackward0>) 22\n",
      "22 0.965103030204773\n",
      "0.999999967237325\n",
      "tensor([[2.4654e-11, 2.8972e-14, 6.3269e-14, 2.0828e-11, 3.7050e-11, 6.7150e-16,\n",
      "         3.6597e-11, 6.3614e-13, 2.9739e-09, 2.6592e-09, 2.7329e-12, 7.9299e-09,\n",
      "         1.3446e-10, 4.2433e-19, 2.6187e-07, 7.4158e-16, 6.7630e-19, 4.2060e-09,\n",
      "         2.4510e-15, 2.1530e-11, 7.1407e-14, 9.1730e-08, 1.9216e-13, 1.1355e-07,\n",
      "         9.4477e-19, 1.0000e+00, 5.0561e-09]], grad_fn=<SoftmaxBackward0>) 25\n",
      "25 0.9999995231628418\n",
      "1.0000000134178053\n",
      "tensor([[1.2744e-11, 1.3376e-18, 4.2209e-08, 2.4512e-12, 1.3151e-17, 3.2866e-12,\n",
      "         7.3075e-12, 7.9726e-10, 5.1105e-07, 6.5712e-04, 1.1865e-18, 6.3242e-08,\n",
      "         2.8274e-15, 4.0645e-10, 1.4282e-07, 9.2139e-08, 2.1460e-12, 2.5470e-11,\n",
      "         5.2439e-05, 7.1043e-17, 6.9167e-12, 8.1259e-13, 2.6835e-12, 8.4011e-06,\n",
      "         2.1371e-17, 9.9928e-01, 1.4242e-23]], grad_fn=<SoftmaxBackward0>) 25\n",
      "25 0.9992812275886536\n",
      "1.0000000384155645\n",
      "tensor([[1.3227e-04, 1.8659e-04, 1.0004e-17, 2.6958e-01, 6.7817e-16, 3.4068e-14,\n",
      "         3.7215e-21, 8.4978e-09, 7.2810e-01, 3.1123e-09, 3.8097e-19, 2.8465e-08,\n",
      "         2.1852e-15, 2.3368e-09, 1.9193e-12, 5.0999e-05, 4.7234e-27, 1.9418e-03,\n",
      "         1.8794e-08, 1.2034e-10, 3.9824e-15, 3.7820e-21, 1.0093e-06, 1.4441e-14,\n",
      "         1.1297e-05, 1.2053e-10, 7.7492e-10]], grad_fn=<SoftmaxBackward0>) 8\n",
      "8 0.7280983924865723\n",
      "1.0000000038183285\n",
      "tensor([[3.3050e-19, 1.8424e-02, 1.7629e-14, 1.3815e-03, 4.6574e-03, 1.2388e-13,\n",
      "         2.1792e-06, 2.7241e-03, 1.1699e-09, 8.5064e-09, 9.3437e-01, 1.9923e-12,\n",
      "         1.8549e-03, 7.2978e-12, 1.2980e-13, 3.3158e-02, 3.8962e-05, 3.1573e-12,\n",
      "         1.1840e-08, 8.3189e-07, 1.2991e-11, 3.2079e-03, 1.8380e-04, 1.3068e-08,\n",
      "         7.4519e-12, 3.3664e-11, 4.5540e-09]], grad_fn=<SoftmaxBackward0>) 10\n",
      "10 0.9343661069869995\n",
      "1.0000000396943574\n",
      "tensor([[5.3363e-15, 1.4896e-13, 1.7095e-11, 1.0180e-06, 3.9287e-08, 5.5344e-05,\n",
      "         2.1503e-13, 1.6072e-08, 1.2193e-02, 1.3840e-07, 8.7249e-06, 9.8697e-01,\n",
      "         4.4803e-15, 1.4906e-16, 6.6733e-07, 1.8277e-08, 1.6412e-12, 4.3510e-09,\n",
      "         3.5955e-04, 5.4805e-14, 8.7639e-10, 6.7693e-11, 1.6643e-10, 3.6007e-12,\n",
      "         1.2681e-18, 3.4772e-05, 3.7735e-04]], grad_fn=<SoftmaxBackward0>) 11\n",
      "11 0.9869691133499146\n",
      "1.000000002122503\n",
      "tensor([[7.8232e-08, 1.4504e-15, 9.8352e-06, 3.4688e-10, 7.1427e-01, 2.4479e-05,\n",
      "         8.3301e-07, 1.5606e-08, 9.1977e-03, 1.8995e-02, 1.4654e-15, 1.6434e-03,\n",
      "         1.4511e-15, 1.3409e-10, 5.9766e-09, 6.7799e-07, 5.2065e-12, 2.4347e-08,\n",
      "         4.1541e-02, 2.1338e-13, 1.3949e-01, 6.2891e-16, 5.2346e-21, 8.8524e-09,\n",
      "         4.5942e-04, 7.4367e-02, 4.2466e-18]], grad_fn=<SoftmaxBackward0>) 4\n",
      "4 0.7142668962478638\n",
      "1.000000086929699\n",
      "tensor([[3.3086e-13, 3.9532e-12, 7.3342e-15, 2.0002e-17, 1.3534e-07, 1.9028e-22,\n",
      "         1.5644e-12, 1.2368e-01, 5.2423e-09, 2.8423e-01, 5.3312e-13, 2.0444e-18,\n",
      "         4.1618e-20, 3.7330e-20, 9.3888e-08, 5.9198e-01, 1.6919e-21, 9.9426e-05,\n",
      "         2.0315e-08, 1.8472e-28, 3.4192e-11, 2.5079e-10, 6.2772e-16, 2.3081e-24,\n",
      "         1.6525e-11, 4.3382e-06, 1.8873e-13]], grad_fn=<SoftmaxBackward0>) 9\n",
      "9 0.2842332124710083\n",
      "0.9999998902629701\n",
      "tensor([[4.1831e-19, 1.7936e-10, 2.5452e-21, 3.6800e-11, 1.1459e-10, 1.5922e-09,\n",
      "         2.4479e-14, 3.2334e-03, 5.5326e-14, 5.9554e-14, 2.5482e-14, 4.0349e-08,\n",
      "         2.7099e-11, 4.6830e-20, 1.1262e-06, 2.4231e-14, 3.7062e-20, 1.1321e-16,\n",
      "         2.8634e-15, 2.2655e-10, 2.3279e-17, 2.9726e-15, 5.3703e-19, 2.8941e-18,\n",
      "         9.9677e-01, 1.0619e-09, 3.0328e-15]], grad_fn=<SoftmaxBackward0>) 24\n",
      "24 0.9967654943466187\n",
      "1.0000000377583884\n",
      "tensor([[5.5751e-10, 1.1192e-06, 5.1572e-17, 3.5867e-12, 3.8259e-04, 1.0261e-06,\n",
      "         1.1836e-05, 1.4915e-18, 2.4760e-12, 6.3961e-08, 9.9941e-01, 1.3762e-13,\n",
      "         1.7233e-17, 1.3210e-19, 6.2126e-11, 9.6995e-09, 2.2573e-15, 2.2709e-15,\n",
      "         1.2299e-15, 3.7884e-10, 2.3663e-09, 8.2528e-15, 1.9367e-04, 5.4571e-11,\n",
      "         1.5008e-13, 3.6637e-12, 1.8901e-12]], grad_fn=<SoftmaxBackward0>) 10\n",
      "10 0.9994096755981445\n",
      "0.9999999942290495\n",
      "tensor([[1.8612e-11, 2.4655e-14, 2.1576e-12, 1.0646e-11, 4.9233e-12, 3.3096e-11,\n",
      "         1.5294e-16, 2.0530e-19, 3.9185e-07, 4.0778e-14, 1.8563e-11, 1.4161e-03,\n",
      "         8.4412e-13, 2.5658e-19, 1.4282e-06, 8.9536e-15, 1.1112e-22, 4.7122e-07,\n",
      "         7.1781e-10, 3.1689e-24, 2.9866e-10, 3.2618e-13, 2.7654e-18, 2.0585e-13,\n",
      "         1.2864e-20, 9.9858e-01, 1.9738e-11]], grad_fn=<SoftmaxBackward0>) 25\n",
      "25 0.9985816478729248\n",
      "1.0000000099316653\n",
      "tensor([[1.2370e-01, 7.7205e-18, 5.3574e-12, 1.4915e-06, 1.0403e-09, 4.5942e-12,\n",
      "         4.2908e-09, 3.1486e-10, 1.3083e-02, 4.8037e-03, 3.7385e-21, 5.5628e-17,\n",
      "         2.2179e-15, 1.4924e-06, 4.8943e-17, 3.8858e-11, 2.8121e-19, 8.5054e-08,\n",
      "         8.5613e-01, 2.0249e-03, 2.2669e-04, 3.7282e-20, 2.7323e-05, 7.3013e-10,\n",
      "         3.0405e-08, 5.9760e-06, 1.9825e-18]], grad_fn=<SoftmaxBackward0>) 18\n",
      "18 0.8561297059059143\n",
      "1.0000000147990742\n",
      "tensor([[3.3088e-15, 3.7684e-12, 2.6037e-22, 5.5745e-11, 2.0750e-19, 9.9798e-08,\n",
      "         3.3911e-29, 3.0678e-09, 7.8126e-02, 6.4513e-11, 6.5294e-16, 6.0644e-14,\n",
      "         4.6692e-15, 1.2053e-14, 9.2181e-01, 6.5187e-06, 1.5841e-20, 5.2920e-05,\n",
      "         1.5403e-10, 1.2994e-23, 3.5350e-13, 1.8001e-12, 2.1890e-11, 2.1589e-17,\n",
      "         1.7669e-09, 4.5467e-09, 1.0440e-09]], grad_fn=<SoftmaxBackward0>) 14\n",
      "14 0.9218140244483948\n",
      "0.9999999595969531\n",
      "tensor([[8.6233e-15, 3.3284e-08, 4.0671e-11, 6.8343e-13, 2.5097e-11, 7.2413e-06,\n",
      "         2.5786e-18, 1.9170e-02, 1.6095e-07, 1.6626e-05, 1.5559e-07, 1.2339e-10,\n",
      "         7.2861e-13, 2.0863e-07, 6.8869e-02, 9.3485e-08, 5.5528e-17, 2.7545e-10,\n",
      "         1.7614e-09, 2.0215e-07, 1.6650e-08, 9.1194e-01, 1.5654e-09, 7.3979e-12,\n",
      "         1.7287e-14, 2.7889e-07, 1.6893e-09]], grad_fn=<SoftmaxBackward0>) 21\n",
      "21 0.911936342716217\n",
      "0.9999998914864767\n",
      "tensor([[1.8701e-04, 1.6462e-09, 7.8319e-14, 2.8454e-03, 1.4573e-06, 1.0436e-14,\n",
      "         7.9721e-16, 1.3313e-06, 6.1620e-01, 8.3570e-10, 2.0310e-08, 2.4316e-18,\n",
      "         1.4179e-10, 1.9186e-10, 2.0796e-18, 2.7053e-02, 1.1482e-16, 2.8834e-14,\n",
      "         3.7218e-02, 7.5410e-09, 2.9297e-05, 1.9070e-12, 2.0676e-11, 6.8599e-10,\n",
      "         3.1588e-01, 1.1605e-17, 5.8440e-04]], grad_fn=<SoftmaxBackward0>) 24\n",
      "24 0.3158769905567169\n",
      "0.9999999304875216\n",
      "tensor([[5.1074e-13, 7.0876e-06, 5.3202e-05, 3.4554e-19, 9.2739e-05, 5.5865e-10,\n",
      "         4.8358e-04, 1.8304e-18, 1.2231e-15, 6.9543e-15, 9.9933e-01, 2.8933e-10,\n",
      "         7.1214e-07, 2.2195e-11, 1.5738e-08, 8.0617e-06, 1.0049e-15, 2.1770e-09,\n",
      "         1.5327e-09, 7.1304e-06, 4.3943e-09, 9.9969e-10, 1.3755e-08, 1.4857e-07,\n",
      "         3.0368e-09, 8.3377e-07, 1.2888e-05]], grad_fn=<SoftmaxBackward0>) 10\n",
      "10 0.9993335604667664\n",
      "0.9999999835016541\n",
      "tensor([[5.6767e-16, 1.9350e-10, 7.9562e-08, 9.7120e-08, 6.3278e-08, 8.7258e-06,\n",
      "         1.7281e-21, 3.6981e-13, 7.9281e-07, 5.4384e-15, 4.9475e-04, 4.8255e-01,\n",
      "         3.1030e-13, 1.3709e-15, 1.4817e-01, 3.1080e-12, 2.3153e-22, 2.4249e-06,\n",
      "         3.6708e-01, 1.0278e-08, 3.3823e-06, 1.4684e-10, 5.7403e-10, 1.2427e-07,\n",
      "         5.2140e-14, 1.6752e-03, 1.7912e-05]], grad_fn=<SoftmaxBackward0>) 11\n",
      "11 0.4825495183467865\n",
      "1.0000000681617096\n",
      "tensor([[6.7510e-08, 5.4495e-22, 3.3827e-15, 9.5057e-01, 1.0633e-05, 5.6792e-12,\n",
      "         9.5353e-11, 7.9528e-08, 2.0346e-03, 1.4515e-05, 1.1875e-22, 4.6549e-02,\n",
      "         2.8157e-22, 1.7459e-10, 2.9844e-16, 1.3526e-11, 5.8132e-13, 5.1199e-12,\n",
      "         1.0215e-06, 1.7592e-05, 5.3444e-08, 1.2632e-16, 3.2419e-12, 2.8369e-12,\n",
      "         2.7911e-07, 8.0346e-04, 1.3521e-15]], grad_fn=<SoftmaxBackward0>) 3\n",
      "3 0.950568675994873\n",
      "0.9999999718287795\n",
      "tensor([[5.0696e-18, 2.2947e-08, 6.5519e-09, 1.2880e-08, 2.2839e-17, 1.0389e-25,\n",
      "         9.0135e-19, 1.6787e-05, 1.3157e-12, 5.5021e-07, 1.1386e-16, 9.5083e-20,\n",
      "         3.5297e-30, 5.5900e-21, 9.1766e-21, 3.8912e-09, 5.0881e-18, 1.5031e-15,\n",
      "         2.0157e-18, 8.4247e-29, 4.3232e-16, 7.4913e-18, 4.9481e-18, 1.9591e-21,\n",
      "         9.0583e-17, 9.9998e-01, 1.7698e-15]], grad_fn=<SoftmaxBackward0>) 25\n",
      "25 0.9999825954437256\n",
      "0.9999999789608588\n",
      "tensor([[2.3916e-06, 3.2679e-03, 1.7859e-09, 6.9755e-10, 2.3717e-12, 1.2118e-13,\n",
      "         1.1594e-06, 1.4282e-16, 1.2897e-06, 1.2330e-11, 1.3448e-24, 2.2660e-06,\n",
      "         5.5071e-07, 3.4127e-13, 9.9117e-01, 1.1641e-10, 4.3802e-14, 5.2476e-03,\n",
      "         2.1133e-12, 1.1795e-16, 4.6634e-13, 2.8135e-11, 5.9113e-06, 2.4755e-08,\n",
      "         3.6172e-09, 2.9865e-04, 4.5319e-20]], grad_fn=<SoftmaxBackward0>) 14\n",
      "14 0.9911723732948303\n",
      "1.0000000209622386\n",
      "tensor([[2.7687e-03, 1.9226e-03, 1.3654e-18, 4.8970e-07, 4.0254e-03, 2.7733e-09,\n",
      "         4.2011e-07, 1.4262e-03, 1.1782e-02, 2.2897e-09, 4.2954e-15, 9.1878e-04,\n",
      "         1.3534e-10, 3.6033e-08, 3.0478e-08, 6.4792e-09, 5.9159e-15, 9.0070e-11,\n",
      "         5.7904e-06, 8.9861e-01, 1.1065e-13, 7.8536e-02, 1.4697e-08, 1.0099e-09,\n",
      "         1.4652e-07, 5.0529e-06, 4.0185e-11]], grad_fn=<SoftmaxBackward0>) 19\n",
      "19 0.8986082673072815\n",
      "0.9999999400550782\n",
      "tensor([[2.0480e-15, 3.5799e-16, 2.1734e-12, 2.7474e-21, 1.1652e-13, 1.5197e-12,\n",
      "         8.7644e-20, 1.8630e-11, 7.5835e-08, 3.2797e-12, 1.8591e-10, 1.9849e-20,\n",
      "         3.0449e-18, 1.2494e-11, 9.4264e-20, 1.0187e-10, 3.4744e-23, 7.0110e-10,\n",
      "         1.0000e+00, 9.6791e-16, 1.0653e-19, 1.6940e-13, 8.9137e-14, 1.0924e-16,\n",
      "         1.3951e-24, 6.1525e-13, 3.6466e-08]], grad_fn=<SoftmaxBackward0>) 18\n",
      "18 0.9999998807907104\n",
      "0.9999999941200035\n",
      "tensor([[1.6530e-15, 1.4421e-13, 9.4897e-12, 6.1942e-13, 4.8917e-15, 1.7869e-08,\n",
      "         1.1350e-15, 1.1438e-18, 2.7357e-10, 9.5775e-15, 6.1078e-23, 4.4587e-08,\n",
      "         7.6953e-15, 2.9790e-15, 6.5592e-01, 3.8159e-20, 1.2878e-22, 2.7851e-01,\n",
      "         9.1690e-11, 3.3550e-11, 9.9963e-17, 1.3322e-19, 6.5550e-02, 2.0469e-05,\n",
      "         4.4385e-09, 6.4905e-17, 1.3908e-12]], grad_fn=<SoftmaxBackward0>) 17\n",
      "17 0.27850615978240967\n",
      "0.9999999647851116\n",
      "tensor([[1.6286e-07, 4.6752e-10, 6.9666e-04, 2.4351e-09, 1.0055e-19, 2.0666e-14,\n",
      "         2.2000e-10, 6.2154e-05, 9.9558e-01, 5.6484e-06, 6.8872e-07, 5.0441e-15,\n",
      "         3.2139e-07, 6.9429e-07, 2.6337e-06, 4.3927e-23, 1.4482e-06, 1.2527e-10,\n",
      "         3.3794e-11, 1.1029e-05, 1.1040e-12, 1.5496e-05, 1.1370e-15, 3.6263e-03,\n",
      "         1.1520e-08, 1.8801e-09, 4.4588e-11]], grad_fn=<SoftmaxBackward0>) 8\n",
      "8 0.9955767393112183\n",
      "1.0000000374546214\n",
      "tensor([[1.6041e-09, 1.8834e-04, 2.9944e-22, 1.9741e-07, 1.7479e-03, 1.6880e-18,\n",
      "         2.3246e-23, 1.2698e-10, 3.8421e-11, 3.8460e-15, 2.3897e-09, 4.8612e-22,\n",
      "         4.8191e-13, 4.2778e-08, 4.9701e-11, 6.7350e-07, 1.1968e-14, 2.6825e-14,\n",
      "         4.9026e-19, 9.9635e-01, 3.3228e-09, 9.6033e-19, 1.7462e-04, 2.4288e-13,\n",
      "         1.5353e-03, 1.6417e-16, 9.0145e-19]], grad_fn=<SoftmaxBackward0>) 19\n",
      "19 0.9963527917861938\n",
      "0.999999913806339\n",
      "tensor([[1.0000e+00, 1.5088e-20, 4.4257e-13, 4.2541e-08, 6.6769e-14, 6.5833e-10,\n",
      "         4.5867e-10, 4.0008e-22, 1.1807e-14, 2.8293e-26, 3.2982e-11, 2.4177e-23,\n",
      "         1.7651e-08, 7.1430e-23, 1.7587e-16, 4.4501e-21, 4.1347e-22, 1.5882e-15,\n",
      "         1.2789e-09, 2.3925e-20, 2.4589e-26, 3.8047e-21, 3.5164e-17, 7.6196e-22,\n",
      "         4.0582e-20, 5.9187e-18, 6.5942e-08]], grad_fn=<SoftmaxBackward0>) 0\n",
      "0 0.9999998807907104\n",
      "1.0000000093540402\n",
      "hccyhguyrrmhokyikdixjyrnuhddrvwchvyyhjkdixjyrnuxjkcynsrqhs\n"
     ]
    }
   ],
   "source": [
    "for _ in range(1):\n",
    "    out = []\n",
    "    context = [0] * block_size\n",
    "\n",
    "    while True:\n",
    "        emb = C[torch.tensor([context])]\n",
    "        # print(emb.view(-1, 30))\n",
    "        # print(W1.shape)\n",
    "        h = torch.tanh(emb.view(1, -1) @ W1 + b1)\n",
    "        logits = h @ W2 + b2\n",
    "        # print(logits)\n",
    "        probs = F.softmax(logits, dim=1);\n",
    "        ix = torch.multinomial(probs, num_samples=1).item()\n",
    "        print(probs, ix)\n",
    "        print(ix, probs[:, ix].item())\n",
    "        \n",
    "        prob_sum = 0\n",
    "        for j in range(27):\n",
    "            # print(j, itos[j], probs[:, j].item())\n",
    "            prob_sum += probs[:, j].item()\n",
    "        \n",
    "        print(prob_sum)\n",
    "        if ix == 0:\n",
    "            break\n",
    "\n",
    "        context = context[1:] + [ix]\n",
    "        out.append(ix)\n",
    "\n",
    "    print(''.join(itos[i] for i in out))"
   ]
  }
 ],
 "metadata": {
  "kernelspec": {
   "display_name": "Python 3",
   "language": "python",
   "name": "python3"
  },
  "language_info": {
   "codemirror_mode": {
    "name": "ipython",
    "version": 3
   },
   "file_extension": ".py",
   "mimetype": "text/x-python",
   "name": "python",
   "nbconvert_exporter": "python",
   "pygments_lexer": "ipython3",
   "version": "3.10.12"
  },
  "orig_nbformat": 4
 },
 "nbformat": 4,
 "nbformat_minor": 2
}
