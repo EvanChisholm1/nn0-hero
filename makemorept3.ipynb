{
 "cells": [
  {
   "cell_type": "code",
   "execution_count": 12,
   "metadata": {},
   "outputs": [],
   "source": [
    "import torch\n",
    "import torch.nn.functional as F\n",
    "import matplotlib.pyplot as plt\n",
    "%matplotlib inline"
   ]
  },
  {
   "cell_type": "code",
   "execution_count": 13,
   "metadata": {},
   "outputs": [
    {
     "data": {
      "text/plain": [
       "['emma', 'olivia', 'ava', 'isabella', 'sophia', 'charlotte', 'mia', 'amelia']"
      ]
     },
     "execution_count": 13,
     "metadata": {},
     "output_type": "execute_result"
    }
   ],
   "source": [
    "words = open('names.txt', 'r').read().splitlines()\n",
    "words[:8]"
   ]
  },
  {
   "cell_type": "code",
   "execution_count": 14,
   "metadata": {},
   "outputs": [
    {
     "data": {
      "text/plain": [
       "32033"
      ]
     },
     "execution_count": 14,
     "metadata": {},
     "output_type": "execute_result"
    }
   ],
   "source": [
    "len(words)"
   ]
  },
  {
   "cell_type": "code",
   "execution_count": 15,
   "metadata": {},
   "outputs": [
    {
     "name": "stdout",
     "output_type": "stream",
     "text": [
      "{1: 'a', 2: 'b', 3: 'c', 4: 'd', 5: 'e', 6: 'f', 7: 'g', 8: 'h', 9: 'i', 10: 'j', 11: 'k', 12: 'l', 13: 'm', 14: 'n', 15: 'o', 16: 'p', 17: 'q', 18: 'r', 19: 's', 20: 't', 21: 'u', 22: 'v', 23: 'w', 24: 'x', 25: 'y', 26: 'z', 0: '.'}\n",
      "27\n"
     ]
    }
   ],
   "source": [
    "chars = sorted(list(set(''.join(words))))\n",
    "stoi = {s:i+1 for i, s in enumerate(chars)}\n",
    "stoi['.'] = 0\n",
    "itos = {i:s for s, i in stoi.items()}\n",
    "vocab_size = len(itos)\n",
    "print(itos)\n",
    "print(vocab_size)"
   ]
  },
  {
   "cell_type": "code",
   "execution_count": 16,
   "metadata": {},
   "outputs": [],
   "source": [
    "block_size = 3\n",
    "\n",
    "def build_dataset(words):\n",
    "    X, Y = [], []\n",
    "    for w in words:\n",
    "        # print(w)\n",
    "        context = [0] * block_size\n",
    "\n",
    "        for c in w + '.':\n",
    "            ix = stoi[c]\n",
    "            X.append(context)\n",
    "            Y.append(ix)\n",
    "\n",
    "            # print(''.join(itos[i] for i in context), '---->', itos[ix])\n",
    "            context = context[1:] + [ix]\n",
    "\n",
    "    X = torch.tensor(X)\n",
    "    Y = torch.tensor(Y)\n",
    "    return X, Y\n",
    "\n",
    "import random\n",
    "random.seed(42)\n",
    "random.shuffle(words)\n",
    "n1 = int(0.8 * len(words))\n",
    "n2 = int(0.9 * len(words))\n",
    "\n",
    "X, Y = build_dataset(words)\n",
    "\n",
    "Xtr, Ytr = build_dataset(words[:n1])\n",
    "Xdev, Ydev = build_dataset(words[n1:n2])\n",
    "Xte, Yte = build_dataset(words[n2:])"
   ]
  },
  {
   "cell_type": "code",
   "execution_count": 17,
   "metadata": {},
   "outputs": [
    {
     "name": "stdout",
     "output_type": "stream",
     "text": [
      "11897\n"
     ]
    }
   ],
   "source": [
    "n_embd = 10\n",
    "n_hidden = 200\n",
    "\n",
    "g = torch.Generator().manual_seed(2147483647)\n",
    "C = torch.randn((vocab_size, n_embd), generator=g)\n",
    "W1 = torch.randn((n_embd * block_size, n_hidden), generator=g)\n",
    "b1 = torch.randn(n_hidden, generator=g)\n",
    "W2 = torch.randn((n_hidden, vocab_size), generator=g)\n",
    "b2 = torch.randn(vocab_size, generator=g)\n",
    "parameters = [C, W1, b1, W2, b2]\n",
    "\n",
    "print(sum(p.nelement() for p in parameters))\n",
    "for p in parameters: p.requires_grad = True"
   ]
  },
  {
   "cell_type": "code",
   "execution_count": 18,
   "metadata": {},
   "outputs": [
    {
     "name": "stdout",
     "output_type": "stream",
     "text": [
      "      0/ 200000: 28.4853\n"
     ]
    },
    {
     "name": "stdout",
     "output_type": "stream",
     "text": [
      "  10000/ 200000: 2.5550\n",
      "  20000/ 200000: 2.3120\n",
      "  30000/ 200000: 2.1579\n",
      "  40000/ 200000: 2.3363\n",
      "  50000/ 200000: 2.0092\n",
      "  60000/ 200000: 2.2087\n",
      "  70000/ 200000: 2.7739\n",
      "  80000/ 200000: 2.3040\n",
      "  90000/ 200000: 2.1150\n",
      " 100000/ 200000: 2.3557\n",
      " 110000/ 200000: 2.4808\n",
      " 120000/ 200000: 1.7717\n",
      " 130000/ 200000: 2.6023\n",
      " 140000/ 200000: 1.8469\n",
      " 150000/ 200000: 2.0481\n",
      " 160000/ 200000: 2.3008\n",
      " 170000/ 200000: 1.8745\n",
      " 180000/ 200000: 1.8389\n",
      " 190000/ 200000: 2.4760\n"
     ]
    }
   ],
   "source": [
    "max_steps = 200000\n",
    "batch_size = 32\n",
    "lossi = []\n",
    "\n",
    "for i in range(max_steps):\n",
    "    # minibatch \n",
    "    ix = torch.randint(0, Xtr.shape[0], (batch_size,))\n",
    "    Xb, Yb = Xtr[ix], Ytr[ix]\n",
    "\n",
    "    emb = C[Xb]\n",
    "    embcat = emb.view(emb.shape[0], -1)\n",
    "    hpreact = embcat @ W1 + b1\n",
    "    h = torch.tanh(hpreact)\n",
    "    logits = h @ W2 + b2\n",
    "    loss = F.cross_entropy(logits, Yb)\n",
    "\n",
    "    for p in parameters:\n",
    "        p.grad = None\n",
    "    loss.backward()\n",
    "\n",
    "    # lr = lrs[i]\n",
    "    lr = 0.1 if i <= 100000 else 0.01\n",
    "    # lr = 0.01\n",
    "    for p in parameters:\n",
    "        p.data += -lr * p.grad\n",
    "    \n",
    "    if i % 10000 == 0:\n",
    "        print(f'{i:7d}/{max_steps:7d}: {loss.item():.4f}')\n",
    "    lossi.append(loss.log10().item())\n"
   ]
  },
  {
   "cell_type": "code",
   "execution_count": 21,
   "metadata": {},
   "outputs": [
    {
     "data": {
      "text/plain": [
       "[<matplotlib.lines.Line2D at 0x7f48da346d40>]"
      ]
     },
     "execution_count": 21,
     "metadata": {},
     "output_type": "execute_result"
    },
    {
     "data": {
      "image/png": "[encoded data removed]",
      "text/plain": [
       "<Figure size 640x480 with 1 Axes>"
      ]
     },
     "metadata": {},
     "output_type": "display_data"
    }
   ],
   "source": [
    "plt.plot(lossi)"
   ]
  },
  {
   "cell_type": "code",
   "execution_count": 22,
   "metadata": {},
   "outputs": [
    {
     "data": {
      "text/plain": [
       "tensor(3.2958)"
      ]
     },
     "execution_count": 22,
     "metadata": {},
     "output_type": "execute_result"
    }
   ],
   "source": [
    "-torch.tensor(1/27.0).log()"
   ]
  },
  {
   "cell_type": "code",
   "execution_count": 23,
   "metadata": {},
   "outputs": [
    {
     "name": "stdout",
     "output_type": "stream",
     "text": [
      "tensor([[-10.3329,  -2.7176,  -4.4485,  ...,  -6.6144,  -5.2303,  -4.7298],\n",
      "        [ -9.0624,   3.1561,  -3.4361,  ...,  -5.7024,  -1.3933,  -1.6416],\n",
      "        [ -3.1999,   1.0887,  -0.1319,  ...,  -0.3079,  -1.2371,  -1.7142],\n",
      "        ...,\n",
      "        [  9.3806,   9.7511,   2.2378,  ...,   0.1430,   8.9167,   2.6098],\n",
      "        [ 11.1793,   6.7826,   8.5198,  ...,   4.9520,   8.4116,   6.1096],\n",
      "        [  9.4894,   9.0326,   1.4689,  ...,   3.7502,   7.7835,   5.1818]])\n",
      "train 2.1307029724121094\n",
      "tensor([[-10.3329,  -2.7176,  -4.4485,  ...,  -6.6144,  -5.2303,  -4.7298],\n",
      "        [ -6.7225,  -0.1358,  -0.8055,  ...,  -2.5341,  -0.8201,  -0.8749],\n",
      "        [ -2.7577,   4.9053,   1.9598,  ...,  -9.5757,   1.7793,  -1.9858],\n",
      "        ...,\n",
      "        [  6.8271,   7.4365,   5.1820,  ...,   0.7713,   3.8058,   4.9361],\n",
      "        [  7.8182,  10.4989,   1.7374,  ...,  -2.7465,   8.8665,  -0.0771],\n",
      "        [ 12.0651,   7.4677,   5.1749,  ...,  -4.0510,   9.1540,   4.7807]])\n",
      "val 2.1694421768188477\n"
     ]
    }
   ],
   "source": [
    "@torch.no_grad()\n",
    "def split_loss(split):\n",
    "    x, y = {\n",
    "        'train': (Xtr, Ytr),\n",
    "        'val': (Xdev, Ydev),\n",
    "        'test': (Xte, Yte)\n",
    "    }[split]\n",
    "    emb = C[x]\n",
    "    embcat = emb.view(emb.shape[0], -1)\n",
    "    h = torch.tanh(embcat @ W1 + b1)\n",
    "    logits = h @ W2 + b2\n",
    "    loss = F.cross_entropy(logits, y)\n",
    "    print(split, loss.item())\n",
    "\n",
    "split_loss('train')\n",
    "split_loss('val')"
   ]
  },
  {
   "cell_type": "code",
   "execution_count": 36,
   "metadata": {},
   "outputs": [
    {
     "name": "stdout",
     "output_type": "stream",
     "text": [
      "tensor([[9.4688e-05, 1.9212e-01, 3.4030e-02, 3.6784e-02, 6.4733e-02, 5.5166e-02,\n",
      "         1.1140e-02, 2.1178e-02, 3.8174e-02, 1.5663e-02, 5.8227e-02, 7.1532e-02,\n",
      "         5.6972e-02, 6.2105e-02, 2.7238e-02, 9.8186e-03, 1.4629e-02, 2.6376e-03,\n",
      "         5.3131e-02, 6.3328e-02, 4.3415e-02, 2.0163e-03, 8.2287e-03, 1.2478e-02,\n",
      "         3.9016e-03, 1.5571e-02, 2.5685e-02]], grad_fn=<SoftmaxBackward0>) 8\n",
      "8 0.038174327462911606\n",
      "1.0000000257859938\n",
      "tensor([[5.8908e-06, 7.1281e-01, 2.1314e-04, 3.3964e-03, 6.4689e-04, 1.1782e-01,\n",
      "         4.5709e-05, 9.2192e-05, 1.2563e-03, 2.6980e-02, 4.8229e-05, 7.4333e-04,\n",
      "         2.3025e-04, 2.5471e-04, 2.2350e-03, 6.5910e-02, 5.1014e-07, 7.5300e-08,\n",
      "         1.1875e-03, 1.3459e-03, 6.8191e-04, 5.2290e-02, 3.2009e-04, 1.4286e-03,\n",
      "         6.3847e-07, 9.9944e-03, 5.9440e-05]], grad_fn=<SoftmaxBackward0>) 9\n",
      "9 0.026979884132742882\n",
      "0.9999999953393655\n",
      "tensor([[2.9642e-03, 1.8584e-01, 4.0803e-03, 7.8024e-02, 6.0896e-02, 1.5305e-02,\n",
      "         8.2972e-06, 3.7857e-03, 1.3411e-02, 1.9949e-02, 3.9699e-03, 1.6972e-02,\n",
      "         1.7462e-01, 1.4488e-02, 4.3902e-02, 1.1755e-02, 3.8920e-04, 2.8620e-03,\n",
      "         1.3665e-01, 8.2913e-02, 4.7094e-02, 5.1210e-04, 1.1119e-02, 4.3704e-04,\n",
      "         2.1367e-03, 2.2559e-02, 4.3358e-02]], grad_fn=<SoftmaxBackward0>) 25\n",
      "25 0.02255948819220066\n",
      "1.0000000856343831\n",
      "tensor([[2.2116e-02, 8.8747e-01, 4.1437e-05, 9.4541e-05, 6.0933e-03, 6.4566e-03,\n",
      "         2.5176e-04, 1.2955e-04, 1.9400e-05, 1.9225e-03, 4.0668e-05, 3.4616e-04,\n",
      "         5.0605e-02, 3.1674e-03, 9.4208e-04, 4.0536e-03, 5.3814e-06, 4.1335e-08,\n",
      "         8.8521e-03, 2.7340e-03, 1.2056e-04, 3.0241e-03, 4.8590e-04, 3.1835e-08,\n",
      "         8.8998e-09, 6.1131e-04, 4.1599e-04]], grad_fn=<SoftmaxBackward0>) 1\n",
      "1 0.8874704837799072\n",
      "1.0000000910888485\n",
      "tensor([[3.1513e-01, 1.7789e-02, 4.1433e-03, 1.9165e-03, 3.5065e-03, 9.2563e-04,\n",
      "         2.5517e-04, 4.2019e-04, 5.1430e-01, 1.5547e-03, 8.0787e-04, 6.8383e-04,\n",
      "         4.2655e-03, 4.7241e-03, 1.0915e-01, 5.3840e-04, 7.5692e-05, 8.8921e-04,\n",
      "         5.5058e-03, 7.7878e-03, 1.2013e-03, 4.1527e-04, 1.8313e-03, 1.1400e-04,\n",
      "         6.2802e-07, 1.9069e-03, 1.6627e-04]], grad_fn=<SoftmaxBackward0>) 0\n",
      "0 0.31512829661369324\n",
      "0.9999999749791755\n",
      "hiya\n"
     ]
    }
   ],
   "source": [
    "for _ in range(1):\n",
    "    out = []\n",
    "    context = [0] * block_size\n",
    "\n",
    "    while True:\n",
    "        emb = C[torch.tensor([context])]\n",
    "        # print(emb.view(-1, 30))\n",
    "        # print(W1.shape)\n",
    "        h = torch.tanh(emb.view(1, -1) @ W1 + b1)\n",
    "        logits = h @ W2 + b2\n",
    "        # print(logits)\n",
    "        probs = F.softmax(logits, dim=1);\n",
    "        ix = torch.multinomial(probs, num_samples=1).item()\n",
    "        print(probs, ix)\n",
    "        print(ix, probs[:, ix].item())\n",
    "        \n",
    "        prob_sum = 0\n",
    "        for j in range(27):\n",
    "            # print(j, itos[j], probs[:, j].item())\n",
    "            prob_sum += probs[:, j].item()\n",
    "        \n",
    "        print(prob_sum)\n",
    "        if ix == 0:\n",
    "            break\n",
    "\n",
    "        context = context[1:] + [ix]\n",
    "        out.append(ix)\n",
    "\n",
    "    print(''.join(itos[i] for i in out))"
   ]
  }
 ],
 "metadata": {
  "kernelspec": {
   "display_name": "Python 3",
   "language": "python",
   "name": "python3"
  },
  "language_info": {
   "codemirror_mode": {
    "name": "ipython",
    "version": 3
   },
   "file_extension": ".py",
   "mimetype": "text/x-python",
   "name": "python",
   "nbconvert_exporter": "python",
   "pygments_lexer": "ipython3",
   "version": "3.10.12"
  },
  "orig_nbformat": 4
 },
 "nbformat": 4,
 "nbformat_minor": 2
}
